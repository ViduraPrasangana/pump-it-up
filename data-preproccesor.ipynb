{
  "nbformat": 4,
  "nbformat_minor": 0,
  "metadata": {
    "kernelspec": {
      "display_name": "Python 3",
      "language": "python",
      "name": "python3"
    },
    "language_info": {
      "codemirror_mode": {
        "name": "ipython",
        "version": 3
      },
      "file_extension": ".py",
      "mimetype": "text/x-python",
      "name": "python",
      "nbconvert_exporter": "python",
      "pygments_lexer": "ipython3",
      "version": "3.6.5"
    },
    "colab": {
      "name": "final_data_clean.ipynb",
      "provenance": []
    }
  },
  "cells": [
    {
      "cell_type": "code",
      "metadata": {
        "id": "-a1uTMWFoJcO"
      },
      "source": [
        "import pandas as pd\n",
        "import numpy as np\n",
        "import matplotlib.pyplot as plt\n",
        "import seaborn as sns\n",
        "from sklearn.preprocessing import MinMaxScaler\n"
      ],
      "execution_count": 32,
      "outputs": []
    },
    {
      "cell_type": "code",
      "metadata": {
        "id": "Jj83Fef3oJcU"
      },
      "source": [
        "data=pd.read_csv('train-vals.csv')\n",
        "#data=pd.read_csv('test-vals.csv')"
      ],
      "execution_count": 33,
      "outputs": []
    },
    {
      "cell_type": "code",
      "metadata": {
        "colab": {
          "base_uri": "https://localhost:8080/"
        },
        "id": "YcKyoy1_QoSD",
        "outputId": "9d26b238-ec27-4e17-c88b-3fe82352f283"
      },
      "source": [
        "data.info()"
      ],
      "execution_count": 34,
      "outputs": [
        {
          "output_type": "stream",
          "name": "stdout",
          "text": [
            "<class 'pandas.core.frame.DataFrame'>\n",
            "RangeIndex: 59400 entries, 0 to 59399\n",
            "Data columns (total 40 columns):\n",
            " #   Column                 Non-Null Count  Dtype  \n",
            "---  ------                 --------------  -----  \n",
            " 0   id                     59400 non-null  int64  \n",
            " 1   amount_tsh             59400 non-null  float64\n",
            " 2   date_recorded          59400 non-null  object \n",
            " 3   funder                 55765 non-null  object \n",
            " 4   gps_height             59400 non-null  int64  \n",
            " 5   installer              55745 non-null  object \n",
            " 6   longitude              59400 non-null  float64\n",
            " 7   latitude               59400 non-null  float64\n",
            " 8   wpt_name               59400 non-null  object \n",
            " 9   num_private            59400 non-null  int64  \n",
            " 10  basin                  59400 non-null  object \n",
            " 11  subvillage             59029 non-null  object \n",
            " 12  region                 59400 non-null  object \n",
            " 13  region_code            59400 non-null  int64  \n",
            " 14  district_code          59400 non-null  int64  \n",
            " 15  lga                    59400 non-null  object \n",
            " 16  ward                   59400 non-null  object \n",
            " 17  population             59400 non-null  int64  \n",
            " 18  public_meeting         56066 non-null  object \n",
            " 19  recorded_by            59400 non-null  object \n",
            " 20  scheme_management      55523 non-null  object \n",
            " 21  scheme_name            31234 non-null  object \n",
            " 22  permit                 56344 non-null  object \n",
            " 23  construction_year      59400 non-null  int64  \n",
            " 24  extraction_type        59400 non-null  object \n",
            " 25  extraction_type_group  59400 non-null  object \n",
            " 26  extraction_type_class  59400 non-null  object \n",
            " 27  management             59400 non-null  object \n",
            " 28  management_group       59400 non-null  object \n",
            " 29  payment                59400 non-null  object \n",
            " 30  payment_type           59400 non-null  object \n",
            " 31  water_quality          59400 non-null  object \n",
            " 32  quality_group          59400 non-null  object \n",
            " 33  quantity               59400 non-null  object \n",
            " 34  quantity_group         59400 non-null  object \n",
            " 35  source                 59400 non-null  object \n",
            " 36  source_type            59400 non-null  object \n",
            " 37  source_class           59400 non-null  object \n",
            " 38  waterpoint_type        59400 non-null  object \n",
            " 39  waterpoint_type_group  59400 non-null  object \n",
            "dtypes: float64(3), int64(7), object(30)\n",
            "memory usage: 18.1+ MB\n"
          ]
        }
      ]
    },
    {
      "cell_type": "code",
      "metadata": {
        "id": "K3aYdQP3oJcY",
        "colab": {
          "base_uri": "https://localhost:8080/"
        },
        "outputId": "556a4df6-cd95-46a3-b599-a2a21305c5a9"
      },
      "source": [
        "int_cols = ['gps_height','population','amount_tsh','longitude','latitude','construction_year']\n",
        "for j in int_cols:\n",
        "  data[j].replace(0.0, np.nan, inplace=True)\n",
        "data.isnull().sum()"
      ],
      "execution_count": 35,
      "outputs": [
        {
          "output_type": "execute_result",
          "data": {
            "text/plain": [
              "id                           0\n",
              "amount_tsh               41639\n",
              "date_recorded                0\n",
              "funder                    3635\n",
              "gps_height               20438\n",
              "installer                 3655\n",
              "longitude                 1812\n",
              "latitude                     0\n",
              "wpt_name                     0\n",
              "num_private                  0\n",
              "basin                        0\n",
              "subvillage                 371\n",
              "region                       0\n",
              "region_code                  0\n",
              "district_code                0\n",
              "lga                          0\n",
              "ward                         0\n",
              "population               21381\n",
              "public_meeting            3334\n",
              "recorded_by                  0\n",
              "scheme_management         3877\n",
              "scheme_name              28166\n",
              "permit                    3056\n",
              "construction_year        20709\n",
              "extraction_type              0\n",
              "extraction_type_group        0\n",
              "extraction_type_class        0\n",
              "management                   0\n",
              "management_group             0\n",
              "payment                      0\n",
              "payment_type                 0\n",
              "water_quality                0\n",
              "quality_group                0\n",
              "quantity                     0\n",
              "quantity_group               0\n",
              "source                       0\n",
              "source_type                  0\n",
              "source_class                 0\n",
              "waterpoint_type              0\n",
              "waterpoint_type_group        0\n",
              "dtype: int64"
            ]
          },
          "metadata": {},
          "execution_count": 35
        }
      ]
    },
    {
      "cell_type": "code",
      "metadata": {
        "id": "Vv2bkdTVoJca",
        "colab": {
          "base_uri": "https://localhost:8080/"
        },
        "outputId": "6447ef9a-fc74-4b28-ffc8-de65999c0f12"
      },
      "source": [
        "district_code_group = data.groupby(['region', 'district_code'])\n",
        "region_group = data.groupby(['region'])\n",
        "\n",
        "null_cols_int = [ \"amount_tsh\", \"gps_height\", \"population\",\"latitude\",\"longitude\"]\n",
        "for i in null_cols_int:\n",
        "  data[i].fillna(district_code_group[i].transform(\"mean\"), inplace=True)\n",
        "  data[i].fillna(region_group[i].transform(\"mean\"), inplace=True)\n",
        "  data[i].fillna(data[i].mean(), inplace=True)\n",
        "\n",
        "null_cols_str = [\"funder\", \"scheme_management\", \"installer\"]\n",
        "for k in null_cols_str:\n",
        "  data[k].fillna(\"other\", inplace=True)\n",
        "\n",
        "data[\"construction_year\"].fillna(data.groupby(['region', 'district_code'])[\"construction_year\"].transform(\"median\"), inplace=True)\n",
        "data[\"construction_year\"].fillna(data.groupby(['region'])[\"construction_year\"].transform(\"median\"), inplace=True)\n",
        "data[\"construction_year\"].fillna(data.groupby(['district_code'])[\"construction_year\"].transform(\"median\"), inplace=True)\n",
        "data[\"construction_year\"].fillna(data[\"construction_year\"].median(), inplace=True)\n",
        "\n",
        "data.isnull().sum()"
      ],
      "execution_count": 36,
      "outputs": [
        {
          "output_type": "execute_result",
          "data": {
            "text/plain": [
              "id                           0\n",
              "amount_tsh                   0\n",
              "date_recorded                0\n",
              "funder                       0\n",
              "gps_height                   0\n",
              "installer                    0\n",
              "longitude                    0\n",
              "latitude                     0\n",
              "wpt_name                     0\n",
              "num_private                  0\n",
              "basin                        0\n",
              "subvillage                 371\n",
              "region                       0\n",
              "region_code                  0\n",
              "district_code                0\n",
              "lga                          0\n",
              "ward                         0\n",
              "population                   0\n",
              "public_meeting            3334\n",
              "recorded_by                  0\n",
              "scheme_management            0\n",
              "scheme_name              28166\n",
              "permit                    3056\n",
              "construction_year            0\n",
              "extraction_type              0\n",
              "extraction_type_group        0\n",
              "extraction_type_class        0\n",
              "management                   0\n",
              "management_group             0\n",
              "payment                      0\n",
              "payment_type                 0\n",
              "water_quality                0\n",
              "quality_group                0\n",
              "quantity                     0\n",
              "quantity_group               0\n",
              "source                       0\n",
              "source_type                  0\n",
              "source_class                 0\n",
              "waterpoint_type              0\n",
              "waterpoint_type_group        0\n",
              "dtype: int64"
            ]
          },
          "metadata": {},
          "execution_count": 36
        }
      ]
    },
    {
      "cell_type": "code",
      "metadata": {
        "id": "La5H242doJcc"
      },
      "source": [
        "#reduce number sizes\n",
        "large_num_feat=['amount_tsh', 'gps_height', 'population']\n",
        "scaler = MinMaxScaler(feature_range=(0,20))\n",
        "data[large_num_feat] = scaler.fit_transform(data[large_num_feat])"
      ],
      "execution_count": 37,
      "outputs": []
    },
    {
      "cell_type": "code",
      "metadata": {
        "id": "l6cjrxn8oJcl",
        "colab": {
          "base_uri": "https://localhost:8080/"
        },
        "outputId": "77bc740d-5ecb-412c-f064-de03d5545697"
      },
      "source": [
        "print(data.isnull().sum())"
      ],
      "execution_count": 38,
      "outputs": [
        {
          "output_type": "stream",
          "name": "stdout",
          "text": [
            "id                           0\n",
            "amount_tsh                   0\n",
            "date_recorded                0\n",
            "funder                       0\n",
            "gps_height                   0\n",
            "installer                    0\n",
            "longitude                    0\n",
            "latitude                     0\n",
            "wpt_name                     0\n",
            "num_private                  0\n",
            "basin                        0\n",
            "subvillage                 371\n",
            "region                       0\n",
            "region_code                  0\n",
            "district_code                0\n",
            "lga                          0\n",
            "ward                         0\n",
            "population                   0\n",
            "public_meeting            3334\n",
            "recorded_by                  0\n",
            "scheme_management            0\n",
            "scheme_name              28166\n",
            "permit                    3056\n",
            "construction_year            0\n",
            "extraction_type              0\n",
            "extraction_type_group        0\n",
            "extraction_type_class        0\n",
            "management                   0\n",
            "management_group             0\n",
            "payment                      0\n",
            "payment_type                 0\n",
            "water_quality                0\n",
            "quality_group                0\n",
            "quantity                     0\n",
            "quantity_group               0\n",
            "source                       0\n",
            "source_type                  0\n",
            "source_class                 0\n",
            "waterpoint_type              0\n",
            "waterpoint_type_group        0\n",
            "dtype: int64\n"
          ]
        }
      ]
    },
    {
      "cell_type": "code",
      "metadata": {
        "id": "k4Pq_uYCoJcm",
        "colab": {
          "base_uri": "https://localhost:8080/"
        },
        "outputId": "40537c06-a988-45af-e82d-b01a8b5cc542"
      },
      "source": [
        "data['date_recorded'] = pd.to_datetime(data['date_recorded'])\n",
        "data['no_working_years'] = data.date_recorded.dt.year - data.construction_year\n",
        "data.no_working_years.head(5)"
      ],
      "execution_count": 39,
      "outputs": [
        {
          "output_type": "execute_result",
          "data": {
            "text/plain": [
              "0    12.0\n",
              "1     3.0\n",
              "2     4.0\n",
              "3    27.0\n",
              "4     8.0\n",
              "Name: no_working_years, dtype: float64"
            ]
          },
          "metadata": {},
          "execution_count": 39
        }
      ]
    },
    {
      "cell_type": "code",
      "metadata": {
        "id": "WG0DCwSfoJcn",
        "colab": {
          "base_uri": "https://localhost:8080/"
        },
        "outputId": "15f01f75-d06e-4d5f-c447-2b41c03542f4"
      },
      "source": [
        "redundant_features=['installer', 'date_recorded','construction_year','wpt_name','num_private','subvillage','region_code','recorded_by','management_group',\"extraction_type_group\",'extraction_type_class','scheme_name','payment','quality_group','quantity_group','source_type', 'source_class', 'waterpoint_type_group','ward','public_meeting','permit']\n",
        "#remove redundant features\n",
        "#remove date_recorded and construction_year as working years has been added\n",
        "#remove extraction_type_group and extraction_type_class as extraction_type has more classes\n",
        "#remove scheme_name as each class has small number of data\n",
        "#remove payment as payment and payment_type has almost same classes\n",
        "#remove quality_group as quality_group and water_quality has almost same classes and water_quality has more classes\n",
        "#remove quantity_group as quantity_group and quantity has same classes\n",
        "#remove source_type and source_class as source is almost same as those\n",
        "#remove waterpoint_type_group as waterpoint_type_group and waterpoint_type have almost same classes\n",
        "#remove public_meeting as public_meeting has almost same distribution with status_group\n",
        "#remove permit as permit has almost same distribution with status_group\n",
        "data.drop(redundant_features,axis=1,inplace=True)\n",
        "\n",
        "data.isnull().sum()"
      ],
      "execution_count": 40,
      "outputs": [
        {
          "output_type": "execute_result",
          "data": {
            "text/plain": [
              "id                   0\n",
              "amount_tsh           0\n",
              "funder               0\n",
              "gps_height           0\n",
              "longitude            0\n",
              "latitude             0\n",
              "basin                0\n",
              "region               0\n",
              "district_code        0\n",
              "lga                  0\n",
              "population           0\n",
              "scheme_management    0\n",
              "extraction_type      0\n",
              "management           0\n",
              "payment_type         0\n",
              "water_quality        0\n",
              "quantity             0\n",
              "source               0\n",
              "waterpoint_type      0\n",
              "no_working_years     0\n",
              "dtype: int64"
            ]
          },
          "metadata": {},
          "execution_count": 40
        }
      ]
    },
    {
      "cell_type": "code",
      "metadata": {
        "colab": {
          "base_uri": "https://localhost:8080/"
        },
        "id": "u9CbDzEEsspa",
        "outputId": "da743c8d-517c-4a98-9097-206df5668e31"
      },
      "source": [
        "data.info()"
      ],
      "execution_count": 41,
      "outputs": [
        {
          "output_type": "stream",
          "name": "stdout",
          "text": [
            "<class 'pandas.core.frame.DataFrame'>\n",
            "RangeIndex: 59400 entries, 0 to 59399\n",
            "Data columns (total 20 columns):\n",
            " #   Column             Non-Null Count  Dtype  \n",
            "---  ------             --------------  -----  \n",
            " 0   id                 59400 non-null  int64  \n",
            " 1   amount_tsh         59400 non-null  float64\n",
            " 2   funder             59400 non-null  object \n",
            " 3   gps_height         59400 non-null  float64\n",
            " 4   longitude          59400 non-null  float64\n",
            " 5   latitude           59400 non-null  float64\n",
            " 6   basin              59400 non-null  object \n",
            " 7   region             59400 non-null  object \n",
            " 8   district_code      59400 non-null  int64  \n",
            " 9   lga                59400 non-null  object \n",
            " 10  population         59400 non-null  float64\n",
            " 11  scheme_management  59400 non-null  object \n",
            " 12  extraction_type    59400 non-null  object \n",
            " 13  management         59400 non-null  object \n",
            " 14  payment_type       59400 non-null  object \n",
            " 15  water_quality      59400 non-null  object \n",
            " 16  quantity           59400 non-null  object \n",
            " 17  source             59400 non-null  object \n",
            " 18  waterpoint_type    59400 non-null  object \n",
            " 19  no_working_years   59400 non-null  float64\n",
            "dtypes: float64(6), int64(2), object(12)\n",
            "memory usage: 9.1+ MB\n"
          ]
        }
      ]
    },
    {
      "cell_type": "code",
      "metadata": {
        "colab": {
          "base_uri": "https://localhost:8080/",
          "height": 343
        },
        "id": "mc-EjZfDs_zE",
        "outputId": "5fd59110-c3ea-4757-8cfa-53aa716e5e66"
      },
      "source": [
        "data.head()"
      ],
      "execution_count": 42,
      "outputs": [
        {
          "output_type": "execute_result",
          "data": {
            "text/html": [
              "<div>\n",
              "<style scoped>\n",
              "    .dataframe tbody tr th:only-of-type {\n",
              "        vertical-align: middle;\n",
              "    }\n",
              "\n",
              "    .dataframe tbody tr th {\n",
              "        vertical-align: top;\n",
              "    }\n",
              "\n",
              "    .dataframe thead th {\n",
              "        text-align: right;\n",
              "    }\n",
              "</style>\n",
              "<table border=\"1\" class=\"dataframe\">\n",
              "  <thead>\n",
              "    <tr style=\"text-align: right;\">\n",
              "      <th></th>\n",
              "      <th>id</th>\n",
              "      <th>amount_tsh</th>\n",
              "      <th>funder</th>\n",
              "      <th>gps_height</th>\n",
              "      <th>longitude</th>\n",
              "      <th>latitude</th>\n",
              "      <th>basin</th>\n",
              "      <th>region</th>\n",
              "      <th>district_code</th>\n",
              "      <th>lga</th>\n",
              "      <th>population</th>\n",
              "      <th>scheme_management</th>\n",
              "      <th>extraction_type</th>\n",
              "      <th>management</th>\n",
              "      <th>payment_type</th>\n",
              "      <th>water_quality</th>\n",
              "      <th>quantity</th>\n",
              "      <th>source</th>\n",
              "      <th>waterpoint_type</th>\n",
              "      <th>no_working_years</th>\n",
              "    </tr>\n",
              "  </thead>\n",
              "  <tbody>\n",
              "    <tr>\n",
              "      <th>0</th>\n",
              "      <td>69572</td>\n",
              "      <td>0.342846</td>\n",
              "      <td>Roman</td>\n",
              "      <td>10.349650</td>\n",
              "      <td>34.938093</td>\n",
              "      <td>-9.856322</td>\n",
              "      <td>Lake Nyasa</td>\n",
              "      <td>Iringa</td>\n",
              "      <td>5</td>\n",
              "      <td>Ludewa</td>\n",
              "      <td>0.070822</td>\n",
              "      <td>VWC</td>\n",
              "      <td>gravity</td>\n",
              "      <td>vwc</td>\n",
              "      <td>annually</td>\n",
              "      <td>soft</td>\n",
              "      <td>enough</td>\n",
              "      <td>spring</td>\n",
              "      <td>communal standpipe</td>\n",
              "      <td>12.0</td>\n",
              "    </tr>\n",
              "    <tr>\n",
              "      <th>1</th>\n",
              "      <td>8776</td>\n",
              "      <td>0.021397</td>\n",
              "      <td>Grumeti</td>\n",
              "      <td>10.412587</td>\n",
              "      <td>34.698766</td>\n",
              "      <td>-2.147466</td>\n",
              "      <td>Lake Victoria</td>\n",
              "      <td>Mara</td>\n",
              "      <td>2</td>\n",
              "      <td>Serengeti</td>\n",
              "      <td>0.182957</td>\n",
              "      <td>Other</td>\n",
              "      <td>gravity</td>\n",
              "      <td>wug</td>\n",
              "      <td>never pay</td>\n",
              "      <td>soft</td>\n",
              "      <td>insufficient</td>\n",
              "      <td>rainwater harvesting</td>\n",
              "      <td>communal standpipe</td>\n",
              "      <td>3.0</td>\n",
              "    </tr>\n",
              "    <tr>\n",
              "      <th>2</th>\n",
              "      <td>34310</td>\n",
              "      <td>0.001417</td>\n",
              "      <td>Lottery Club</td>\n",
              "      <td>5.426573</td>\n",
              "      <td>37.460664</td>\n",
              "      <td>-3.821329</td>\n",
              "      <td>Pangani</td>\n",
              "      <td>Manyara</td>\n",
              "      <td>4</td>\n",
              "      <td>Simanjiro</td>\n",
              "      <td>0.163284</td>\n",
              "      <td>VWC</td>\n",
              "      <td>gravity</td>\n",
              "      <td>vwc</td>\n",
              "      <td>per bucket</td>\n",
              "      <td>soft</td>\n",
              "      <td>enough</td>\n",
              "      <td>dam</td>\n",
              "      <td>communal standpipe multiple</td>\n",
              "      <td>4.0</td>\n",
              "    </tr>\n",
              "    <tr>\n",
              "      <th>3</th>\n",
              "      <td>67743</td>\n",
              "      <td>0.005729</td>\n",
              "      <td>Unicef</td>\n",
              "      <td>2.468531</td>\n",
              "      <td>38.486161</td>\n",
              "      <td>-11.155298</td>\n",
              "      <td>Ruvuma / Southern Coast</td>\n",
              "      <td>Mtwara</td>\n",
              "      <td>63</td>\n",
              "      <td>Nanyumbu</td>\n",
              "      <td>0.037378</td>\n",
              "      <td>VWC</td>\n",
              "      <td>submersible</td>\n",
              "      <td>vwc</td>\n",
              "      <td>never pay</td>\n",
              "      <td>soft</td>\n",
              "      <td>dry</td>\n",
              "      <td>machine dbh</td>\n",
              "      <td>communal standpipe multiple</td>\n",
              "      <td>27.0</td>\n",
              "    </tr>\n",
              "    <tr>\n",
              "      <th>4</th>\n",
              "      <td>19728</td>\n",
              "      <td>0.079573</td>\n",
              "      <td>Action In A</td>\n",
              "      <td>8.024794</td>\n",
              "      <td>31.130847</td>\n",
              "      <td>-1.825359</td>\n",
              "      <td>Lake Victoria</td>\n",
              "      <td>Kagera</td>\n",
              "      <td>1</td>\n",
              "      <td>Karagwe</td>\n",
              "      <td>0.207517</td>\n",
              "      <td>other</td>\n",
              "      <td>gravity</td>\n",
              "      <td>other</td>\n",
              "      <td>never pay</td>\n",
              "      <td>soft</td>\n",
              "      <td>seasonal</td>\n",
              "      <td>rainwater harvesting</td>\n",
              "      <td>communal standpipe</td>\n",
              "      <td>8.0</td>\n",
              "    </tr>\n",
              "  </tbody>\n",
              "</table>\n",
              "</div>"
            ],
            "text/plain": [
              "      id  amount_tsh  ...              waterpoint_type  no_working_years\n",
              "0  69572    0.342846  ...           communal standpipe              12.0\n",
              "1   8776    0.021397  ...           communal standpipe               3.0\n",
              "2  34310    0.001417  ...  communal standpipe multiple               4.0\n",
              "3  67743    0.005729  ...  communal standpipe multiple              27.0\n",
              "4  19728    0.079573  ...           communal standpipe               8.0\n",
              "\n",
              "[5 rows x 20 columns]"
            ]
          },
          "metadata": {},
          "execution_count": 42
        }
      ]
    },
    {
      "cell_type": "code",
      "metadata": {
        "id": "YKDdde58oJcu"
      },
      "source": [
        "#making all category class names lowercase\n",
        "data.waterpoint_type = data.waterpoint_type.str.lower()\n",
        "data.funder = data.funder.str.lower()\n",
        "#data.installer = data.installer.str.lower()\n",
        "data.basin = data.basin.str.lower()\n",
        "data.region = data.region.str.lower()\n",
        "data.source = data.source.str.lower()\n",
        "data.lga = data.lga.str.lower()\n",
        "data.management = data.management.str.lower()\n",
        "data.quantity = data.quantity.str.lower()\n",
        "data.water_quality = data.water_quality.str.lower()\n",
        "data.payment_type=data.payment_type.str.lower()\n",
        "data.extraction_type=data.extraction_type.str.lower()\n",
        "data.scheme_management=data.scheme_management.str.lower()"
      ],
      "execution_count": 43,
      "outputs": []
    },
    {
      "cell_type": "code",
      "metadata": {
        "colab": {
          "base_uri": "https://localhost:8080/"
        },
        "id": "TuCq_P6sQtmB",
        "outputId": "5f27b70c-e17d-4cd5-cdb0-6da0c5abd877"
      },
      "source": [
        "data.info()"
      ],
      "execution_count": 44,
      "outputs": [
        {
          "output_type": "stream",
          "name": "stdout",
          "text": [
            "<class 'pandas.core.frame.DataFrame'>\n",
            "RangeIndex: 59400 entries, 0 to 59399\n",
            "Data columns (total 20 columns):\n",
            " #   Column             Non-Null Count  Dtype  \n",
            "---  ------             --------------  -----  \n",
            " 0   id                 59400 non-null  int64  \n",
            " 1   amount_tsh         59400 non-null  float64\n",
            " 2   funder             59400 non-null  object \n",
            " 3   gps_height         59400 non-null  float64\n",
            " 4   longitude          59400 non-null  float64\n",
            " 5   latitude           59400 non-null  float64\n",
            " 6   basin              59400 non-null  object \n",
            " 7   region             59400 non-null  object \n",
            " 8   district_code      59400 non-null  int64  \n",
            " 9   lga                59400 non-null  object \n",
            " 10  population         59400 non-null  float64\n",
            " 11  scheme_management  59400 non-null  object \n",
            " 12  extraction_type    59400 non-null  object \n",
            " 13  management         59400 non-null  object \n",
            " 14  payment_type       59400 non-null  object \n",
            " 15  water_quality      59400 non-null  object \n",
            " 16  quantity           59400 non-null  object \n",
            " 17  source             59400 non-null  object \n",
            " 18  waterpoint_type    59400 non-null  object \n",
            " 19  no_working_years   59400 non-null  float64\n",
            "dtypes: float64(6), int64(2), object(12)\n",
            "memory usage: 9.1+ MB\n"
          ]
        }
      ]
    },
    {
      "cell_type": "code",
      "metadata": {
        "id": "4OTnhWlWoJcv"
      },
      "source": [
        "pd.DataFrame(data).to_csv(\"preprocced_data.csv\",index=False)\n",
        "#pd.DataFrame(data).to_csv(\"preprocced_test_data.csv\",index=False)"
      ],
      "execution_count": 45,
      "outputs": []
    }
  ]
}
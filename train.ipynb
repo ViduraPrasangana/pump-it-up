{
  "nbformat": 4,
  "nbformat_minor": 0,
  "metadata": {
    "kernelspec": {
      "display_name": "Python 3",
      "language": "python",
      "name": "python3"
    },
    "language_info": {
      "codemirror_mode": {
        "name": "ipython",
        "version": 3
      },
      "file_extension": ".py",
      "mimetype": "text/x-python",
      "name": "python",
      "nbconvert_exporter": "python",
      "pygments_lexer": "ipython3",
      "version": "3.6.5"
    },
    "colab": {
      "name": "evaluation.ipynb",
      "provenance": []
    }
  },
  "cells": [
    {
      "cell_type": "code",
      "metadata": {
        "id": "XrDUnUd3oKQV"
      },
      "source": [
        "import pandas as pd\n",
        "import numpy as np\n"
      ],
      "execution_count": 131,
      "outputs": []
    },
    {
      "cell_type": "code",
      "metadata": {
        "id": "qf3SODE0oKQZ"
      },
      "source": [
        "train_data = pd.read_csv('preprocced_data.csv')\n",
        "data_labels = pd.read_csv('train-labels.csv')\n",
        "test = pd.read_csv('preprocced_test_data.csv')"
      ],
      "execution_count": 132,
      "outputs": []
    },
    {
      "cell_type": "code",
      "metadata": {
        "id": "FYXJzuTmQWLR",
        "outputId": "2b77df4e-fcf6-44ed-c7d7-bebf03d5d736",
        "colab": {
          "base_uri": "https://localhost:8080/"
        }
      },
      "source": [
        "train_data.info()"
      ],
      "execution_count": 133,
      "outputs": [
        {
          "output_type": "stream",
          "name": "stdout",
          "text": [
            "<class 'pandas.core.frame.DataFrame'>\n",
            "RangeIndex: 59400 entries, 0 to 59399\n",
            "Data columns (total 20 columns):\n",
            " #   Column             Non-Null Count  Dtype  \n",
            "---  ------             --------------  -----  \n",
            " 0   id                 59400 non-null  int64  \n",
            " 1   amount_tsh         59400 non-null  float64\n",
            " 2   funder             59400 non-null  object \n",
            " 3   gps_height         59400 non-null  float64\n",
            " 4   longitude          59400 non-null  float64\n",
            " 5   latitude           59400 non-null  float64\n",
            " 6   basin              59400 non-null  object \n",
            " 7   region             59400 non-null  object \n",
            " 8   district_code      59400 non-null  int64  \n",
            " 9   lga                59400 non-null  object \n",
            " 10  population         59400 non-null  float64\n",
            " 11  scheme_management  59400 non-null  object \n",
            " 12  extraction_type    59400 non-null  object \n",
            " 13  management         59400 non-null  object \n",
            " 14  payment_type       59400 non-null  object \n",
            " 15  water_quality      59400 non-null  object \n",
            " 16  quantity           59400 non-null  object \n",
            " 17  source             59400 non-null  object \n",
            " 18  waterpoint_type    59400 non-null  object \n",
            " 19  no_working_years   59400 non-null  float64\n",
            "dtypes: float64(6), int64(2), object(12)\n",
            "memory usage: 9.1+ MB\n"
          ]
        }
      ]
    },
    {
      "cell_type": "code",
      "metadata": {
        "id": "1fQbLDo7xlIj",
        "outputId": "487cab87-ef55-4ef5-fbc7-8cf28535c768",
        "colab": {
          "base_uri": "https://localhost:8080/"
        }
      },
      "source": [
        "data_labels.info()"
      ],
      "execution_count": 134,
      "outputs": [
        {
          "output_type": "stream",
          "name": "stdout",
          "text": [
            "<class 'pandas.core.frame.DataFrame'>\n",
            "RangeIndex: 59400 entries, 0 to 59399\n",
            "Data columns (total 2 columns):\n",
            " #   Column        Non-Null Count  Dtype \n",
            "---  ------        --------------  ----- \n",
            " 0   id            59400 non-null  int64 \n",
            " 1   status_group  59400 non-null  object\n",
            "dtypes: int64(1), object(1)\n",
            "memory usage: 928.2+ KB\n"
          ]
        }
      ]
    },
    {
      "cell_type": "code",
      "metadata": {
        "id": "T-73CiQSxmu9",
        "outputId": "e9681ed1-bdaf-4a5b-dff0-15b2a4f199ad",
        "colab": {
          "base_uri": "https://localhost:8080/"
        }
      },
      "source": [
        "test.info()"
      ],
      "execution_count": 135,
      "outputs": [
        {
          "output_type": "stream",
          "name": "stdout",
          "text": [
            "<class 'pandas.core.frame.DataFrame'>\n",
            "RangeIndex: 14850 entries, 0 to 14849\n",
            "Data columns (total 20 columns):\n",
            " #   Column             Non-Null Count  Dtype  \n",
            "---  ------             --------------  -----  \n",
            " 0   id                 14850 non-null  int64  \n",
            " 1   amount_tsh         14850 non-null  float64\n",
            " 2   funder             14850 non-null  object \n",
            " 3   gps_height         14850 non-null  float64\n",
            " 4   longitude          14850 non-null  float64\n",
            " 5   latitude           14850 non-null  float64\n",
            " 6   basin              14850 non-null  object \n",
            " 7   region             14850 non-null  object \n",
            " 8   district_code      14850 non-null  int64  \n",
            " 9   lga                14850 non-null  object \n",
            " 10  population         14850 non-null  float64\n",
            " 11  scheme_management  14850 non-null  object \n",
            " 12  extraction_type    14850 non-null  object \n",
            " 13  management         14850 non-null  object \n",
            " 14  payment_type       14850 non-null  object \n",
            " 15  water_quality      14850 non-null  object \n",
            " 16  quantity           14850 non-null  object \n",
            " 17  source             14850 non-null  object \n",
            " 18  waterpoint_type    14850 non-null  object \n",
            " 19  no_working_years   14850 non-null  float64\n",
            "dtypes: float64(6), int64(2), object(12)\n",
            "memory usage: 2.3+ MB\n"
          ]
        }
      ]
    },
    {
      "cell_type": "code",
      "metadata": {
        "id": "-F2ZsZRyoKQb",
        "outputId": "a91426ef-ce21-43ef-c0a7-092f57790ded",
        "colab": {
          "base_uri": "https://localhost:8080/"
        }
      },
      "source": [
        "train_data.shape,data_labels.shape,test.shape"
      ],
      "execution_count": 136,
      "outputs": [
        {
          "output_type": "execute_result",
          "data": {
            "text/plain": [
              "((59400, 20), (59400, 2), (14850, 20))"
            ]
          },
          "metadata": {},
          "execution_count": 136
        }
      ]
    },
    {
      "cell_type": "code",
      "metadata": {
        "id": "nmnV2iqtoKQc"
      },
      "source": [
        "target=data_labels.pop('status_group')"
      ],
      "execution_count": 137,
      "outputs": []
    },
    {
      "cell_type": "code",
      "metadata": {
        "id": "Q5Wd2uuqoKQc",
        "outputId": "c2316f97-98ee-4293-e07d-87b713c47731",
        "colab": {
          "base_uri": "https://localhost:8080/"
        }
      },
      "source": [
        "train_data['train']=1\n",
        "test['train']=0\n",
        "train_data.info()"
      ],
      "execution_count": 138,
      "outputs": [
        {
          "output_type": "stream",
          "name": "stdout",
          "text": [
            "<class 'pandas.core.frame.DataFrame'>\n",
            "RangeIndex: 59400 entries, 0 to 59399\n",
            "Data columns (total 21 columns):\n",
            " #   Column             Non-Null Count  Dtype  \n",
            "---  ------             --------------  -----  \n",
            " 0   id                 59400 non-null  int64  \n",
            " 1   amount_tsh         59400 non-null  float64\n",
            " 2   funder             59400 non-null  object \n",
            " 3   gps_height         59400 non-null  float64\n",
            " 4   longitude          59400 non-null  float64\n",
            " 5   latitude           59400 non-null  float64\n",
            " 6   basin              59400 non-null  object \n",
            " 7   region             59400 non-null  object \n",
            " 8   district_code      59400 non-null  int64  \n",
            " 9   lga                59400 non-null  object \n",
            " 10  population         59400 non-null  float64\n",
            " 11  scheme_management  59400 non-null  object \n",
            " 12  extraction_type    59400 non-null  object \n",
            " 13  management         59400 non-null  object \n",
            " 14  payment_type       59400 non-null  object \n",
            " 15  water_quality      59400 non-null  object \n",
            " 16  quantity           59400 non-null  object \n",
            " 17  source             59400 non-null  object \n",
            " 18  waterpoint_type    59400 non-null  object \n",
            " 19  no_working_years   59400 non-null  float64\n",
            " 20  train              59400 non-null  int64  \n",
            "dtypes: float64(6), int64(3), object(12)\n",
            "memory usage: 9.5+ MB\n"
          ]
        }
      ]
    },
    {
      "cell_type": "code",
      "metadata": {
        "id": "3Jh1_9nEoKQd",
        "outputId": "2fdb4abb-820f-460f-d14c-f7ea2e22f711",
        "colab": {
          "base_uri": "https://localhost:8080/"
        }
      },
      "source": [
        "train_data.shape,test.shape"
      ],
      "execution_count": 139,
      "outputs": [
        {
          "output_type": "execute_result",
          "data": {
            "text/plain": [
              "((59400, 21), (14850, 21))"
            ]
          },
          "metadata": {},
          "execution_count": 139
        }
      ]
    },
    {
      "cell_type": "code",
      "metadata": {
        "id": "YkdYU144oKQe"
      },
      "source": [
        "combined = pd.concat([train_data, test])"
      ],
      "execution_count": 140,
      "outputs": []
    },
    {
      "cell_type": "code",
      "metadata": {
        "id": "7icIzunUoKQf",
        "outputId": "ebe2a638-ead9-4092-dc8f-d7a6f1e0305f",
        "colab": {
          "base_uri": "https://localhost:8080/"
        }
      },
      "source": [
        "combined['funder'] = pd.factorize(combined['funder'])[0]\n",
        "#combined['installer'] = pd.factorize(combined['installer'])[0]\n",
        "combined['scheme_management'] = pd.factorize(combined['scheme_management'])[0]\n",
        "combined['extraction_type'] = pd.factorize(combined['extraction_type'])[0]\n",
        "combined['management'] = pd.factorize(combined['management'])[0]\n",
        "combined['payment_type'] = pd.factorize(combined['payment_type'])[0]\n",
        "combined['water_quality'] = pd.factorize(combined['water_quality'])[0]\n",
        "combined['quantity'] = pd.factorize(combined['quantity'])[0]\n",
        "combined['source'] = pd.factorize(combined['source'])[0]\n",
        "combined['waterpoint_type'] = pd.factorize(combined['waterpoint_type'])[0]\n",
        "combined['basin'] = pd.factorize(combined['basin'])[0]\n",
        "combined['region'] = pd.factorize(combined['region'])[0]\n",
        "combined['lga'] = pd.factorize(combined['lga'])[0]\n",
        "combined['district_code'] = pd.factorize(combined['district_code'])[0]\n",
        "combined['no_working_years'] = pd.factorize(combined['no_working_years'])[0]\n",
        "combined.district_code.head(5)"
      ],
      "execution_count": 141,
      "outputs": [
        {
          "output_type": "execute_result",
          "data": {
            "text/plain": [
              "0    0\n",
              "1    1\n",
              "2    2\n",
              "3    3\n",
              "4    4\n",
              "Name: district_code, dtype: int64"
            ]
          },
          "metadata": {},
          "execution_count": 141
        }
      ]
    },
    {
      "cell_type": "code",
      "metadata": {
        "id": "wy2Rwqf5oKQg",
        "outputId": "2aa23513-fa60-4d2a-ab75-480a735aa956",
        "colab": {
          "base_uri": "https://localhost:8080/"
        }
      },
      "source": [
        "train_df = combined[combined[\"train\"] == 1]\n",
        "test_df = combined[combined[\"train\"] == 0]\n",
        "train_df.drop([\"train\"], axis=1, inplace=True)\n",
        "train_df.drop(['id'],axis=1, inplace=True)\n",
        "test_df.drop([\"train\"], axis=1, inplace=True)"
      ],
      "execution_count": 142,
      "outputs": [
        {
          "output_type": "stream",
          "name": "stderr",
          "text": [
            "/usr/local/lib/python3.7/dist-packages/pandas/core/frame.py:4174: SettingWithCopyWarning: \n",
            "A value is trying to be set on a copy of a slice from a DataFrame\n",
            "\n",
            "See the caveats in the documentation: https://pandas.pydata.org/pandas-docs/stable/user_guide/indexing.html#returning-a-view-versus-a-copy\n",
            "  errors=errors,\n"
          ]
        }
      ]
    },
    {
      "cell_type": "code",
      "metadata": {
        "id": "bGemyDJjoKQg"
      },
      "source": [
        "X = train_df\n",
        "y = target"
      ],
      "execution_count": 143,
      "outputs": []
    },
    {
      "cell_type": "code",
      "metadata": {
        "id": "0kvrbciboKQh"
      },
      "source": [
        "from sklearn.ensemble import RandomForestClassifier\n",
        "model_rfc = RandomForestClassifier(n_estimators=1000)"
      ],
      "execution_count": 144,
      "outputs": []
    },
    {
      "cell_type": "code",
      "metadata": {
        "id": "UdSUuurGoKQh"
      },
      "source": [
        "#from sklearn.svm import SVC\n",
        "#clf = SVC()"
      ],
      "execution_count": 145,
      "outputs": []
    },
    {
      "cell_type": "code",
      "metadata": {
        "id": "qwkWpL5EoKQh"
      },
      "source": [
        "from xgboost import XGBClassifier\n",
        "model_xgb = XGBClassifier(objective = 'multi:softmax', booster = 'gbtree', nrounds = 'min.error.idx', \n",
        "                      num_class = 4, maximize = False, eval_metric = 'merror', eta = .2,\n",
        "                      max_depth = 14, colsample_bytree = .4)"
      ],
      "execution_count": 146,
      "outputs": []
    },
    {
      "cell_type": "code",
      "metadata": {
        "id": "VKLyB7HioKQj",
        "outputId": "d1675469-f9c9-4d52-c280-dc21fcec5d53",
        "colab": {
          "base_uri": "https://localhost:8080/",
          "height": 439
        }
      },
      "source": [
        "X"
      ],
      "execution_count": 147,
      "outputs": [
        {
          "output_type": "execute_result",
          "data": {
            "text/html": [
              "<div>\n",
              "<style scoped>\n",
              "    .dataframe tbody tr th:only-of-type {\n",
              "        vertical-align: middle;\n",
              "    }\n",
              "\n",
              "    .dataframe tbody tr th {\n",
              "        vertical-align: top;\n",
              "    }\n",
              "\n",
              "    .dataframe thead th {\n",
              "        text-align: right;\n",
              "    }\n",
              "</style>\n",
              "<table border=\"1\" class=\"dataframe\">\n",
              "  <thead>\n",
              "    <tr style=\"text-align: right;\">\n",
              "      <th></th>\n",
              "      <th>amount_tsh</th>\n",
              "      <th>funder</th>\n",
              "      <th>gps_height</th>\n",
              "      <th>longitude</th>\n",
              "      <th>latitude</th>\n",
              "      <th>basin</th>\n",
              "      <th>region</th>\n",
              "      <th>district_code</th>\n",
              "      <th>lga</th>\n",
              "      <th>population</th>\n",
              "      <th>scheme_management</th>\n",
              "      <th>extraction_type</th>\n",
              "      <th>management</th>\n",
              "      <th>payment_type</th>\n",
              "      <th>water_quality</th>\n",
              "      <th>quantity</th>\n",
              "      <th>source</th>\n",
              "      <th>waterpoint_type</th>\n",
              "      <th>no_working_years</th>\n",
              "    </tr>\n",
              "  </thead>\n",
              "  <tbody>\n",
              "    <tr>\n",
              "      <th>0</th>\n",
              "      <td>0.342846</td>\n",
              "      <td>0</td>\n",
              "      <td>10.349650</td>\n",
              "      <td>34.938093</td>\n",
              "      <td>-9.856322</td>\n",
              "      <td>0</td>\n",
              "      <td>0</td>\n",
              "      <td>0</td>\n",
              "      <td>0</td>\n",
              "      <td>0.070822</td>\n",
              "      <td>0</td>\n",
              "      <td>0</td>\n",
              "      <td>0</td>\n",
              "      <td>0</td>\n",
              "      <td>0</td>\n",
              "      <td>0</td>\n",
              "      <td>0</td>\n",
              "      <td>0</td>\n",
              "      <td>0</td>\n",
              "    </tr>\n",
              "    <tr>\n",
              "      <th>1</th>\n",
              "      <td>0.021397</td>\n",
              "      <td>1</td>\n",
              "      <td>10.412587</td>\n",
              "      <td>34.698766</td>\n",
              "      <td>-2.147466</td>\n",
              "      <td>1</td>\n",
              "      <td>1</td>\n",
              "      <td>1</td>\n",
              "      <td>1</td>\n",
              "      <td>0.182957</td>\n",
              "      <td>1</td>\n",
              "      <td>0</td>\n",
              "      <td>1</td>\n",
              "      <td>1</td>\n",
              "      <td>0</td>\n",
              "      <td>1</td>\n",
              "      <td>1</td>\n",
              "      <td>0</td>\n",
              "      <td>1</td>\n",
              "    </tr>\n",
              "    <tr>\n",
              "      <th>2</th>\n",
              "      <td>0.001417</td>\n",
              "      <td>2</td>\n",
              "      <td>5.426573</td>\n",
              "      <td>37.460664</td>\n",
              "      <td>-3.821329</td>\n",
              "      <td>2</td>\n",
              "      <td>2</td>\n",
              "      <td>2</td>\n",
              "      <td>2</td>\n",
              "      <td>0.163284</td>\n",
              "      <td>0</td>\n",
              "      <td>0</td>\n",
              "      <td>0</td>\n",
              "      <td>2</td>\n",
              "      <td>0</td>\n",
              "      <td>0</td>\n",
              "      <td>2</td>\n",
              "      <td>1</td>\n",
              "      <td>2</td>\n",
              "    </tr>\n",
              "    <tr>\n",
              "      <th>3</th>\n",
              "      <td>0.005729</td>\n",
              "      <td>3</td>\n",
              "      <td>2.468531</td>\n",
              "      <td>38.486161</td>\n",
              "      <td>-11.155298</td>\n",
              "      <td>3</td>\n",
              "      <td>3</td>\n",
              "      <td>3</td>\n",
              "      <td>3</td>\n",
              "      <td>0.037378</td>\n",
              "      <td>0</td>\n",
              "      <td>1</td>\n",
              "      <td>0</td>\n",
              "      <td>1</td>\n",
              "      <td>0</td>\n",
              "      <td>2</td>\n",
              "      <td>3</td>\n",
              "      <td>1</td>\n",
              "      <td>3</td>\n",
              "    </tr>\n",
              "    <tr>\n",
              "      <th>4</th>\n",
              "      <td>0.079573</td>\n",
              "      <td>4</td>\n",
              "      <td>8.024794</td>\n",
              "      <td>31.130847</td>\n",
              "      <td>-1.825359</td>\n",
              "      <td>1</td>\n",
              "      <td>4</td>\n",
              "      <td>4</td>\n",
              "      <td>4</td>\n",
              "      <td>0.207517</td>\n",
              "      <td>1</td>\n",
              "      <td>0</td>\n",
              "      <td>2</td>\n",
              "      <td>1</td>\n",
              "      <td>0</td>\n",
              "      <td>3</td>\n",
              "      <td>1</td>\n",
              "      <td>0</td>\n",
              "      <td>4</td>\n",
              "    </tr>\n",
              "    <tr>\n",
              "      <th>...</th>\n",
              "      <td>...</td>\n",
              "      <td>...</td>\n",
              "      <td>...</td>\n",
              "      <td>...</td>\n",
              "      <td>...</td>\n",
              "      <td>...</td>\n",
              "      <td>...</td>\n",
              "      <td>...</td>\n",
              "      <td>...</td>\n",
              "      <td>...</td>\n",
              "      <td>...</td>\n",
              "      <td>...</td>\n",
              "      <td>...</td>\n",
              "      <td>...</td>\n",
              "      <td>...</td>\n",
              "      <td>...</td>\n",
              "      <td>...</td>\n",
              "      <td>...</td>\n",
              "      <td>...</td>\n",
              "    </tr>\n",
              "    <tr>\n",
              "      <th>59395</th>\n",
              "      <td>0.000560</td>\n",
              "      <td>58</td>\n",
              "      <td>9.090909</td>\n",
              "      <td>37.169807</td>\n",
              "      <td>-3.253847</td>\n",
              "      <td>2</td>\n",
              "      <td>10</td>\n",
              "      <td>0</td>\n",
              "      <td>63</td>\n",
              "      <td>0.081314</td>\n",
              "      <td>4</td>\n",
              "      <td>0</td>\n",
              "      <td>4</td>\n",
              "      <td>2</td>\n",
              "      <td>0</td>\n",
              "      <td>0</td>\n",
              "      <td>0</td>\n",
              "      <td>0</td>\n",
              "      <td>30</td>\n",
              "    </tr>\n",
              "    <tr>\n",
              "      <th>59396</th>\n",
              "      <td>0.268560</td>\n",
              "      <td>422</td>\n",
              "      <td>9.104895</td>\n",
              "      <td>35.249991</td>\n",
              "      <td>-9.070629</td>\n",
              "      <td>7</td>\n",
              "      <td>0</td>\n",
              "      <td>2</td>\n",
              "      <td>15</td>\n",
              "      <td>0.036067</td>\n",
              "      <td>0</td>\n",
              "      <td>0</td>\n",
              "      <td>0</td>\n",
              "      <td>0</td>\n",
              "      <td>0</td>\n",
              "      <td>0</td>\n",
              "      <td>6</td>\n",
              "      <td>0</td>\n",
              "      <td>31</td>\n",
              "    </tr>\n",
              "    <tr>\n",
              "      <th>59397</th>\n",
              "      <td>0.079573</td>\n",
              "      <td>25</td>\n",
              "      <td>8.024794</td>\n",
              "      <td>34.017087</td>\n",
              "      <td>-8.750434</td>\n",
              "      <td>7</td>\n",
              "      <td>17</td>\n",
              "      <td>9</td>\n",
              "      <td>44</td>\n",
              "      <td>0.207517</td>\n",
              "      <td>0</td>\n",
              "      <td>2</td>\n",
              "      <td>0</td>\n",
              "      <td>6</td>\n",
              "      <td>4</td>\n",
              "      <td>0</td>\n",
              "      <td>3</td>\n",
              "      <td>2</td>\n",
              "      <td>4</td>\n",
              "    </tr>\n",
              "    <tr>\n",
              "      <th>59398</th>\n",
              "      <td>0.079573</td>\n",
              "      <td>639</td>\n",
              "      <td>8.024794</td>\n",
              "      <td>35.861315</td>\n",
              "      <td>-6.378573</td>\n",
              "      <td>7</td>\n",
              "      <td>15</td>\n",
              "      <td>2</td>\n",
              "      <td>23</td>\n",
              "      <td>0.207517</td>\n",
              "      <td>0</td>\n",
              "      <td>3</td>\n",
              "      <td>0</td>\n",
              "      <td>1</td>\n",
              "      <td>0</td>\n",
              "      <td>1</td>\n",
              "      <td>5</td>\n",
              "      <td>2</td>\n",
              "      <td>13</td>\n",
              "    </tr>\n",
              "    <tr>\n",
              "      <th>59399</th>\n",
              "      <td>0.023451</td>\n",
              "      <td>68</td>\n",
              "      <td>1.965035</td>\n",
              "      <td>38.104048</td>\n",
              "      <td>-6.747464</td>\n",
              "      <td>6</td>\n",
              "      <td>19</td>\n",
              "      <td>1</td>\n",
              "      <td>49</td>\n",
              "      <td>0.097708</td>\n",
              "      <td>0</td>\n",
              "      <td>3</td>\n",
              "      <td>0</td>\n",
              "      <td>4</td>\n",
              "      <td>1</td>\n",
              "      <td>0</td>\n",
              "      <td>5</td>\n",
              "      <td>2</td>\n",
              "      <td>16</td>\n",
              "    </tr>\n",
              "  </tbody>\n",
              "</table>\n",
              "<p>59400 rows × 19 columns</p>\n",
              "</div>"
            ],
            "text/plain": [
              "       amount_tsh  funder  ...  waterpoint_type  no_working_years\n",
              "0        0.342846       0  ...                0                 0\n",
              "1        0.021397       1  ...                0                 1\n",
              "2        0.001417       2  ...                1                 2\n",
              "3        0.005729       3  ...                1                 3\n",
              "4        0.079573       4  ...                0                 4\n",
              "...           ...     ...  ...              ...               ...\n",
              "59395    0.000560      58  ...                0                30\n",
              "59396    0.268560     422  ...                0                31\n",
              "59397    0.079573      25  ...                2                 4\n",
              "59398    0.079573     639  ...                2                13\n",
              "59399    0.023451      68  ...                2                16\n",
              "\n",
              "[59400 rows x 19 columns]"
            ]
          },
          "metadata": {},
          "execution_count": 147
        }
      ]
    },
    {
      "cell_type": "code",
      "metadata": {
        "id": "_wlSusEgUeX-"
      },
      "source": [
        "model = model_rfc"
      ],
      "execution_count": 148,
      "outputs": []
    },
    {
      "cell_type": "code",
      "metadata": {
        "id": "xiHPanmCVIyl",
        "outputId": "0c1858b8-2805-4ece-eec1-5715575ab5e7",
        "colab": {
          "base_uri": "https://localhost:8080/",
          "height": 439
        }
      },
      "source": [
        "X"
      ],
      "execution_count": 149,
      "outputs": [
        {
          "output_type": "execute_result",
          "data": {
            "text/html": [
              "<div>\n",
              "<style scoped>\n",
              "    .dataframe tbody tr th:only-of-type {\n",
              "        vertical-align: middle;\n",
              "    }\n",
              "\n",
              "    .dataframe tbody tr th {\n",
              "        vertical-align: top;\n",
              "    }\n",
              "\n",
              "    .dataframe thead th {\n",
              "        text-align: right;\n",
              "    }\n",
              "</style>\n",
              "<table border=\"1\" class=\"dataframe\">\n",
              "  <thead>\n",
              "    <tr style=\"text-align: right;\">\n",
              "      <th></th>\n",
              "      <th>amount_tsh</th>\n",
              "      <th>funder</th>\n",
              "      <th>gps_height</th>\n",
              "      <th>longitude</th>\n",
              "      <th>latitude</th>\n",
              "      <th>basin</th>\n",
              "      <th>region</th>\n",
              "      <th>district_code</th>\n",
              "      <th>lga</th>\n",
              "      <th>population</th>\n",
              "      <th>scheme_management</th>\n",
              "      <th>extraction_type</th>\n",
              "      <th>management</th>\n",
              "      <th>payment_type</th>\n",
              "      <th>water_quality</th>\n",
              "      <th>quantity</th>\n",
              "      <th>source</th>\n",
              "      <th>waterpoint_type</th>\n",
              "      <th>no_working_years</th>\n",
              "    </tr>\n",
              "  </thead>\n",
              "  <tbody>\n",
              "    <tr>\n",
              "      <th>0</th>\n",
              "      <td>0.342846</td>\n",
              "      <td>0</td>\n",
              "      <td>10.349650</td>\n",
              "      <td>34.938093</td>\n",
              "      <td>-9.856322</td>\n",
              "      <td>0</td>\n",
              "      <td>0</td>\n",
              "      <td>0</td>\n",
              "      <td>0</td>\n",
              "      <td>0.070822</td>\n",
              "      <td>0</td>\n",
              "      <td>0</td>\n",
              "      <td>0</td>\n",
              "      <td>0</td>\n",
              "      <td>0</td>\n",
              "      <td>0</td>\n",
              "      <td>0</td>\n",
              "      <td>0</td>\n",
              "      <td>0</td>\n",
              "    </tr>\n",
              "    <tr>\n",
              "      <th>1</th>\n",
              "      <td>0.021397</td>\n",
              "      <td>1</td>\n",
              "      <td>10.412587</td>\n",
              "      <td>34.698766</td>\n",
              "      <td>-2.147466</td>\n",
              "      <td>1</td>\n",
              "      <td>1</td>\n",
              "      <td>1</td>\n",
              "      <td>1</td>\n",
              "      <td>0.182957</td>\n",
              "      <td>1</td>\n",
              "      <td>0</td>\n",
              "      <td>1</td>\n",
              "      <td>1</td>\n",
              "      <td>0</td>\n",
              "      <td>1</td>\n",
              "      <td>1</td>\n",
              "      <td>0</td>\n",
              "      <td>1</td>\n",
              "    </tr>\n",
              "    <tr>\n",
              "      <th>2</th>\n",
              "      <td>0.001417</td>\n",
              "      <td>2</td>\n",
              "      <td>5.426573</td>\n",
              "      <td>37.460664</td>\n",
              "      <td>-3.821329</td>\n",
              "      <td>2</td>\n",
              "      <td>2</td>\n",
              "      <td>2</td>\n",
              "      <td>2</td>\n",
              "      <td>0.163284</td>\n",
              "      <td>0</td>\n",
              "      <td>0</td>\n",
              "      <td>0</td>\n",
              "      <td>2</td>\n",
              "      <td>0</td>\n",
              "      <td>0</td>\n",
              "      <td>2</td>\n",
              "      <td>1</td>\n",
              "      <td>2</td>\n",
              "    </tr>\n",
              "    <tr>\n",
              "      <th>3</th>\n",
              "      <td>0.005729</td>\n",
              "      <td>3</td>\n",
              "      <td>2.468531</td>\n",
              "      <td>38.486161</td>\n",
              "      <td>-11.155298</td>\n",
              "      <td>3</td>\n",
              "      <td>3</td>\n",
              "      <td>3</td>\n",
              "      <td>3</td>\n",
              "      <td>0.037378</td>\n",
              "      <td>0</td>\n",
              "      <td>1</td>\n",
              "      <td>0</td>\n",
              "      <td>1</td>\n",
              "      <td>0</td>\n",
              "      <td>2</td>\n",
              "      <td>3</td>\n",
              "      <td>1</td>\n",
              "      <td>3</td>\n",
              "    </tr>\n",
              "    <tr>\n",
              "      <th>4</th>\n",
              "      <td>0.079573</td>\n",
              "      <td>4</td>\n",
              "      <td>8.024794</td>\n",
              "      <td>31.130847</td>\n",
              "      <td>-1.825359</td>\n",
              "      <td>1</td>\n",
              "      <td>4</td>\n",
              "      <td>4</td>\n",
              "      <td>4</td>\n",
              "      <td>0.207517</td>\n",
              "      <td>1</td>\n",
              "      <td>0</td>\n",
              "      <td>2</td>\n",
              "      <td>1</td>\n",
              "      <td>0</td>\n",
              "      <td>3</td>\n",
              "      <td>1</td>\n",
              "      <td>0</td>\n",
              "      <td>4</td>\n",
              "    </tr>\n",
              "    <tr>\n",
              "      <th>...</th>\n",
              "      <td>...</td>\n",
              "      <td>...</td>\n",
              "      <td>...</td>\n",
              "      <td>...</td>\n",
              "      <td>...</td>\n",
              "      <td>...</td>\n",
              "      <td>...</td>\n",
              "      <td>...</td>\n",
              "      <td>...</td>\n",
              "      <td>...</td>\n",
              "      <td>...</td>\n",
              "      <td>...</td>\n",
              "      <td>...</td>\n",
              "      <td>...</td>\n",
              "      <td>...</td>\n",
              "      <td>...</td>\n",
              "      <td>...</td>\n",
              "      <td>...</td>\n",
              "      <td>...</td>\n",
              "    </tr>\n",
              "    <tr>\n",
              "      <th>59395</th>\n",
              "      <td>0.000560</td>\n",
              "      <td>58</td>\n",
              "      <td>9.090909</td>\n",
              "      <td>37.169807</td>\n",
              "      <td>-3.253847</td>\n",
              "      <td>2</td>\n",
              "      <td>10</td>\n",
              "      <td>0</td>\n",
              "      <td>63</td>\n",
              "      <td>0.081314</td>\n",
              "      <td>4</td>\n",
              "      <td>0</td>\n",
              "      <td>4</td>\n",
              "      <td>2</td>\n",
              "      <td>0</td>\n",
              "      <td>0</td>\n",
              "      <td>0</td>\n",
              "      <td>0</td>\n",
              "      <td>30</td>\n",
              "    </tr>\n",
              "    <tr>\n",
              "      <th>59396</th>\n",
              "      <td>0.268560</td>\n",
              "      <td>422</td>\n",
              "      <td>9.104895</td>\n",
              "      <td>35.249991</td>\n",
              "      <td>-9.070629</td>\n",
              "      <td>7</td>\n",
              "      <td>0</td>\n",
              "      <td>2</td>\n",
              "      <td>15</td>\n",
              "      <td>0.036067</td>\n",
              "      <td>0</td>\n",
              "      <td>0</td>\n",
              "      <td>0</td>\n",
              "      <td>0</td>\n",
              "      <td>0</td>\n",
              "      <td>0</td>\n",
              "      <td>6</td>\n",
              "      <td>0</td>\n",
              "      <td>31</td>\n",
              "    </tr>\n",
              "    <tr>\n",
              "      <th>59397</th>\n",
              "      <td>0.079573</td>\n",
              "      <td>25</td>\n",
              "      <td>8.024794</td>\n",
              "      <td>34.017087</td>\n",
              "      <td>-8.750434</td>\n",
              "      <td>7</td>\n",
              "      <td>17</td>\n",
              "      <td>9</td>\n",
              "      <td>44</td>\n",
              "      <td>0.207517</td>\n",
              "      <td>0</td>\n",
              "      <td>2</td>\n",
              "      <td>0</td>\n",
              "      <td>6</td>\n",
              "      <td>4</td>\n",
              "      <td>0</td>\n",
              "      <td>3</td>\n",
              "      <td>2</td>\n",
              "      <td>4</td>\n",
              "    </tr>\n",
              "    <tr>\n",
              "      <th>59398</th>\n",
              "      <td>0.079573</td>\n",
              "      <td>639</td>\n",
              "      <td>8.024794</td>\n",
              "      <td>35.861315</td>\n",
              "      <td>-6.378573</td>\n",
              "      <td>7</td>\n",
              "      <td>15</td>\n",
              "      <td>2</td>\n",
              "      <td>23</td>\n",
              "      <td>0.207517</td>\n",
              "      <td>0</td>\n",
              "      <td>3</td>\n",
              "      <td>0</td>\n",
              "      <td>1</td>\n",
              "      <td>0</td>\n",
              "      <td>1</td>\n",
              "      <td>5</td>\n",
              "      <td>2</td>\n",
              "      <td>13</td>\n",
              "    </tr>\n",
              "    <tr>\n",
              "      <th>59399</th>\n",
              "      <td>0.023451</td>\n",
              "      <td>68</td>\n",
              "      <td>1.965035</td>\n",
              "      <td>38.104048</td>\n",
              "      <td>-6.747464</td>\n",
              "      <td>6</td>\n",
              "      <td>19</td>\n",
              "      <td>1</td>\n",
              "      <td>49</td>\n",
              "      <td>0.097708</td>\n",
              "      <td>0</td>\n",
              "      <td>3</td>\n",
              "      <td>0</td>\n",
              "      <td>4</td>\n",
              "      <td>1</td>\n",
              "      <td>0</td>\n",
              "      <td>5</td>\n",
              "      <td>2</td>\n",
              "      <td>16</td>\n",
              "    </tr>\n",
              "  </tbody>\n",
              "</table>\n",
              "<p>59400 rows × 19 columns</p>\n",
              "</div>"
            ],
            "text/plain": [
              "       amount_tsh  funder  ...  waterpoint_type  no_working_years\n",
              "0        0.342846       0  ...                0                 0\n",
              "1        0.021397       1  ...                0                 1\n",
              "2        0.001417       2  ...                1                 2\n",
              "3        0.005729       3  ...                1                 3\n",
              "4        0.079573       4  ...                0                 4\n",
              "...           ...     ...  ...              ...               ...\n",
              "59395    0.000560      58  ...                0                30\n",
              "59396    0.268560     422  ...                0                31\n",
              "59397    0.079573      25  ...                2                 4\n",
              "59398    0.079573     639  ...                2                13\n",
              "59399    0.023451      68  ...                2                16\n",
              "\n",
              "[59400 rows x 19 columns]"
            ]
          },
          "metadata": {},
          "execution_count": 149
        }
      ]
    },
    {
      "cell_type": "code",
      "metadata": {
        "id": "N9bNKn-ooKQj",
        "outputId": "b2a0e57a-ab9b-4237-a111-442d784ce47c",
        "colab": {
          "base_uri": "https://localhost:8080/"
        }
      },
      "source": [
        "from sklearn.model_selection import cross_val_score\n",
        "cross_val_score(model, X, y, cv=3)"
      ],
      "execution_count": 150,
      "outputs": [
        {
          "output_type": "execute_result",
          "data": {
            "text/plain": [
              "array([0.80454545, 0.80252525, 0.79964646])"
            ]
          },
          "metadata": {},
          "execution_count": 150
        }
      ]
    },
    {
      "cell_type": "code",
      "metadata": {
        "id": "tbd2raeroKQj",
        "outputId": "0f3f9c27-fd37-4a1c-d466-b4eb0e3add46",
        "colab": {
          "base_uri": "https://localhost:8080/"
        }
      },
      "source": [
        "model.fit(X,y)\n",
        "importances = model.feature_importances_\n",
        "importances"
      ],
      "execution_count": 151,
      "outputs": [
        {
          "output_type": "execute_result",
          "data": {
            "text/plain": [
              "array([0.03447654, 0.05380477, 0.07694185, 0.15171345, 0.14995936,\n",
              "       0.01676612, 0.02298469, 0.02168111, 0.03093296, 0.05222841,\n",
              "       0.01616923, 0.05615486, 0.01824329, 0.03138004, 0.01431379,\n",
              "       0.11547218, 0.03030608, 0.05820144, 0.04826982])"
            ]
          },
          "metadata": {},
          "execution_count": 151
        }
      ]
    },
    {
      "cell_type": "code",
      "metadata": {
        "id": "hKt68R1AoKQk",
        "outputId": "b0644010-e849-4637-e7b8-46e939306467",
        "colab": {
          "base_uri": "https://localhost:8080/"
        }
      },
      "source": [
        "importances = model.feature_importances_\n",
        "importances\n",
        "indices = np.argsort(importances)[::-1]\n",
        "\n",
        "print(\"Feature rankings\")\n",
        "\n",
        "for f in range(X.shape[1]):\n",
        "    print(\"%d. feature %d (%f)\" % (f + 1, indices[f], importances[indices[f]]))\n",
        "\n",
        "for f in range(X.shape[1]):\n",
        "    print(X.columns[indices[f]],end=', ')\n"
      ],
      "execution_count": 152,
      "outputs": [
        {
          "output_type": "stream",
          "name": "stdout",
          "text": [
            "Feature rankings\n",
            "1. feature 3 (0.151713)\n",
            "2. feature 4 (0.149959)\n",
            "3. feature 15 (0.115472)\n",
            "4. feature 2 (0.076942)\n",
            "5. feature 17 (0.058201)\n",
            "6. feature 11 (0.056155)\n",
            "7. feature 1 (0.053805)\n",
            "8. feature 9 (0.052228)\n",
            "9. feature 18 (0.048270)\n",
            "10. feature 0 (0.034477)\n",
            "11. feature 13 (0.031380)\n",
            "12. feature 8 (0.030933)\n",
            "13. feature 16 (0.030306)\n",
            "14. feature 6 (0.022985)\n",
            "15. feature 7 (0.021681)\n",
            "16. feature 12 (0.018243)\n",
            "17. feature 5 (0.016766)\n",
            "18. feature 10 (0.016169)\n",
            "19. feature 14 (0.014314)\n",
            "longitude, latitude, quantity, gps_height, waterpoint_type, extraction_type, funder, population, no_working_years, amount_tsh, payment_type, lga, source, region, district_code, management, basin, scheme_management, water_quality, "
          ]
        }
      ]
    },
    {
      "cell_type": "code",
      "metadata": {
        "id": "8qAkMrdgoKQn"
      },
      "source": [
        "X_test=test_df\n"
      ],
      "execution_count": 153,
      "outputs": []
    },
    {
      "cell_type": "code",
      "metadata": {
        "id": "SaFBQf9GoKQn",
        "outputId": "18314e8b-df35-4a0c-e5df-b8880c9a6417",
        "colab": {
          "base_uri": "https://localhost:8080/"
        }
      },
      "source": [
        "model.fit(X,y)"
      ],
      "execution_count": 154,
      "outputs": [
        {
          "output_type": "execute_result",
          "data": {
            "text/plain": [
              "RandomForestClassifier(bootstrap=True, ccp_alpha=0.0, class_weight=None,\n",
              "                       criterion='gini', max_depth=None, max_features='auto',\n",
              "                       max_leaf_nodes=None, max_samples=None,\n",
              "                       min_impurity_decrease=0.0, min_impurity_split=None,\n",
              "                       min_samples_leaf=1, min_samples_split=2,\n",
              "                       min_weight_fraction_leaf=0.0, n_estimators=1000,\n",
              "                       n_jobs=None, oob_score=False, random_state=None,\n",
              "                       verbose=0, warm_start=False)"
            ]
          },
          "metadata": {},
          "execution_count": 154
        }
      ]
    },
    {
      "cell_type": "code",
      "metadata": {
        "id": "KY4wBvKHoKQn",
        "outputId": "8ef4aeb7-0a7f-40db-ec4e-691b7d110912",
        "colab": {
          "base_uri": "https://localhost:8080/"
        }
      },
      "source": [
        "a=X_test['id']\n",
        "X_test.drop(['id'],axis=1, inplace=True)\n",
        "y_pred = model.predict(X_test)"
      ],
      "execution_count": 155,
      "outputs": [
        {
          "output_type": "stream",
          "name": "stderr",
          "text": [
            "/usr/local/lib/python3.7/dist-packages/pandas/core/frame.py:4174: SettingWithCopyWarning: \n",
            "A value is trying to be set on a copy of a slice from a DataFrame\n",
            "\n",
            "See the caveats in the documentation: https://pandas.pydata.org/pandas-docs/stable/user_guide/indexing.html#returning-a-view-versus-a-copy\n",
            "  errors=errors,\n"
          ]
        }
      ]
    },
    {
      "cell_type": "code",
      "metadata": {
        "id": "dOw0u8CsoKQo"
      },
      "source": [
        "y_pred=pd.DataFrame(y_pred)\n",
        "y_pred['id']=a\n",
        "y_pred.columns=['status_group','id']\n",
        "y_pred=y_pred[['id','status_group']]"
      ],
      "execution_count": 156,
      "outputs": []
    },
    {
      "cell_type": "code",
      "metadata": {
        "id": "1R5va-zXoKQo",
        "outputId": "0b2a929a-2e10-4116-a960-5dece6f0b13c",
        "colab": {
          "base_uri": "https://localhost:8080/"
        }
      },
      "source": [
        "y_pred.info()"
      ],
      "execution_count": 157,
      "outputs": [
        {
          "output_type": "stream",
          "name": "stdout",
          "text": [
            "<class 'pandas.core.frame.DataFrame'>\n",
            "RangeIndex: 14850 entries, 0 to 14849\n",
            "Data columns (total 2 columns):\n",
            " #   Column        Non-Null Count  Dtype \n",
            "---  ------        --------------  ----- \n",
            " 0   id            14850 non-null  int64 \n",
            " 1   status_group  14850 non-null  object\n",
            "dtypes: int64(1), object(1)\n",
            "memory usage: 232.2+ KB\n"
          ]
        }
      ]
    },
    {
      "cell_type": "code",
      "metadata": {
        "id": "vBhm5heB5cwC"
      },
      "source": [
        "y_pred.to_csv(\"submission.csv\",index=False)"
      ],
      "execution_count": 158,
      "outputs": []
    }
  ]
}